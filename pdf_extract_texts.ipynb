{
  "nbformat": 4,
  "nbformat_minor": 0,
  "metadata": {
    "colab": {
      "provenance": [],
      "authorship_tag": "ABX9TyPcjuGbayRxqyqX8GnjaVhi",
      "include_colab_link": true
    },
    "kernelspec": {
      "name": "python3",
      "display_name": "Python 3"
    },
    "language_info": {
      "name": "python"
    }
  },
  "cells": [
    {
      "cell_type": "markdown",
      "metadata": {
        "id": "view-in-github",
        "colab_type": "text"
      },
      "source": [
        "<a href=\"https://colab.research.google.com/github/pydeoxy/small_tools/blob/main/pdf_extract_texts.ipynb\" target=\"_parent\"><img src=\"https://colab.research.google.com/assets/colab-badge.svg\" alt=\"Open In Colab\"/></a>"
      ]
    },
    {
      "cell_type": "markdown",
      "source": [
        "Install libraries"
      ],
      "metadata": {
        "id": "zoZEw51ZEZGh"
      }
    },
    {
      "cell_type": "code",
      "source": [
        "!pip install --upgrade pymupdf"
      ],
      "metadata": {
        "id": "011MWpMTaog7",
        "colab": {
          "base_uri": "https://localhost:8080/"
        },
        "outputId": "99efd791-dac6-4ef9-9fc6-58bf0834b22d",
        "collapsed": true
      },
      "execution_count": 2,
      "outputs": [
        {
          "output_type": "stream",
          "name": "stdout",
          "text": [
            "Collecting pymupdf\n",
            "  Downloading PyMuPDF-1.24.5-cp310-none-manylinux2014_x86_64.whl (3.5 MB)\n",
            "\u001b[2K     \u001b[90m━━━━━━━━━━━━━━━━━━━━━━━━━━━━━━━━━━━━━━━━\u001b[0m \u001b[32m3.5/3.5 MB\u001b[0m \u001b[31m31.1 MB/s\u001b[0m eta \u001b[36m0:00:00\u001b[0m\n",
            "\u001b[?25hCollecting PyMuPDFb==1.24.3 (from pymupdf)\n",
            "  Downloading PyMuPDFb-1.24.3-py3-none-manylinux2014_x86_64.manylinux_2_17_x86_64.whl (15.8 MB)\n",
            "\u001b[2K     \u001b[90m━━━━━━━━━━━━━━━━━━━━━━━━━━━━━━━━━━━━━━━━\u001b[0m \u001b[32m15.8/15.8 MB\u001b[0m \u001b[31m63.8 MB/s\u001b[0m eta \u001b[36m0:00:00\u001b[0m\n",
            "\u001b[?25hInstalling collected packages: PyMuPDFb, pymupdf\n",
            "Successfully installed PyMuPDFb-1.24.3 pymupdf-1.24.5\n"
          ]
        }
      ]
    },
    {
      "cell_type": "markdown",
      "source": [
        "Extract texts from PDF with both texts and pictures."
      ],
      "metadata": {
        "id": "WVReW52TW04y"
      }
    },
    {
      "cell_type": "code",
      "source": [
        "import fitz\n",
        "\n",
        "# Extract texts from a PDF file\n",
        "def extract_text_pdf(pdf_path):\n",
        "  with fitz.open(pdf_path) as doc:  # open document\n",
        "    text = chr(12).join([page.get_text() for page in doc])\n",
        "  return text\n",
        "\n",
        "# Save the extracted texts into a txt file\n",
        "def to_txt(pdf_path, output_path):\n",
        "  text = extract_text_pdf(pdf_path)\n",
        "  with open(output_path, \"w\") as f:\n",
        "      f.write(text)\n",
        "\n",
        "# Example usage\n",
        "if __name__ == '__main__':\n",
        "    pdf_path = '/content/to_be_extracted.pdf'  # Replace with your actual PDF path\n",
        "    output_path = '/content/extracted.txt' # Replace with your output path\n",
        "    to_txt(pdf_path,output_path)\n",
        "\n"
      ],
      "metadata": {
        "id": "ihB4n0FSWyCN",
        "collapsed": true
      },
      "execution_count": 7,
      "outputs": []
    }
  ]
}